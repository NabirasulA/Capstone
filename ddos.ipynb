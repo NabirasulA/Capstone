{
 "cells": [
  {
   "cell_type": "code",
   "execution_count": 2,
   "id": "e4b8b1db",
   "metadata": {},
   "outputs": [
    {
     "name": "stdout",
     "output_type": "stream",
     "text": [
      "<class 'pandas.core.frame.DataFrame'>\n",
      "RangeIndex: 22165610 entries, 0 to 22165609\n",
      "Data columns (total 21 columns):\n",
      " #   Column       Dtype  \n",
      "---  ------       -----  \n",
      " 0   Unnamed: 0   int64  \n",
      " 1   type         int64  \n",
      " 2   rcvTime      float64\n",
      " 3   pos_0        float64\n",
      " 4   pos_1        float64\n",
      " 5   pos_noise_0  float64\n",
      " 6   pos_noise_1  float64\n",
      " 7   spd_0        float64\n",
      " 8   spd_1        float64\n",
      " 9   spd_noise_0  float64\n",
      " 10  spd_noise_1  float64\n",
      " 11  acl_0        float64\n",
      " 12  acl_1        float64\n",
      " 13  acl_noise_0  float64\n",
      " 14  acl_noise_1  float64\n",
      " 15  hed_0        float64\n",
      " 16  hed_1        float64\n",
      " 17  hed_noise_0  float64\n",
      " 18  hed_noise_1  float64\n",
      " 19  attack       int64  \n",
      " 20  attack_type  object \n",
      "dtypes: float64(17), int64(3), object(1)\n",
      "memory usage: 3.5+ GB\n",
      "None\n",
      "   Unnamed: 0  type       rcvTime        pos_0       pos_1  pos_noise_0  \\\n",
      "0           0     3  27371.216284   981.098535  908.497891     3.826423   \n",
      "1           1     3  52060.561117  1213.025174  984.277524     4.477449   \n",
      "2           2     3  28156.319142   140.514133  944.338854     2.965184   \n",
      "3           3     3  28671.375689   558.005547  327.316562     4.934159   \n",
      "4           4     2  53612.000000   689.179631  547.143780     3.327547   \n",
      "\n",
      "   pos_noise_1      spd_0     spd_1  spd_noise_0  ...     acl_0     acl_1  \\\n",
      "0     3.964059 -17.723786 -2.154895    -0.024182  ... -0.248402 -0.177659   \n",
      "1     4.459375  14.504808  2.605276    -0.008523  ... -0.653850 -0.117125   \n",
      "2     3.066191  -0.346027  4.671520    -0.000469  ...  0.333247 -4.486889   \n",
      "3     5.037039  11.792797  4.028876     0.022346  ... -0.030639 -0.010265   \n",
      "4     3.374621   3.887137 -8.732709     0.000090  ... -1.829939  4.111129   \n",
      "\n",
      "   acl_noise_0   acl_noise_1     hed_0     hed_1  hed_noise_0  hed_noise_1  \\\n",
      "0     0.000784  1.114785e-03 -0.971331 -0.237732    44.022409    33.840519   \n",
      "1     0.000001  1.847528e-07  0.992578  0.121610     2.560114     8.414909   \n",
      "2     0.000448  6.050771e-03  0.256103  0.966649    15.915074     9.636057   \n",
      "3     0.000066  2.237617e-05  0.954113  0.299446     2.854203     6.203941   \n",
      "4     0.000028  6.361425e-05  0.360402 -0.932797     5.648109    19.951521   \n",
      "\n",
      "   attack        attack_type  \n",
      "0       0  RandomSpeedOffset  \n",
      "1       0         DataReplay  \n",
      "2       1      DoSDisruptive  \n",
      "3       1  RandomSpeedOffset  \n",
      "4       0                DoS  \n",
      "\n",
      "[5 rows x 21 columns]\n",
      "['RandomSpeedOffset' 'DataReplay' 'DoSDisruptive' 'DoS' 'GridSybil'\n",
      " 'ConstPosOffset' 'DataReplaySybil' 'DelayedMessages' 'ConstSpeedOffset'\n",
      " 'DoSDisruptiveSybil' 'RandomSpeed' 'RandomPosOffset' 'RandomPos'\n",
      " 'Disruptive' 'EventualStop' 'ConstPos' 'ConstSpeed' 'DoSRandom'\n",
      " 'DoSRandomSybil']\n"
     ]
    }
   ],
   "source": [
    "import pandas as pd\n",
    "\n",
    "# Load the dataset\n",
    "df = pd.read_csv(\"Veremi_final_dataset.csv\")   \n",
    "\n",
    "print(df.info())  # Check column data types\n",
    "print(df.head())  # Preview first few rows\n",
    "\n",
    "# Check unique attack types\n",
    "print(df[\"attack_type\"].unique())\n"
   ]
  },
  {
   "cell_type": "code",
   "execution_count": 6,
   "id": "c8195bbf",
   "metadata": {},
   "outputs": [
    {
     "name": "stdout",
     "output_type": "stream",
     "text": [
      "[3 2]\n",
      "type  attack\n",
      "2     0          1694767\n",
      "      1          1358508\n",
      "3     0         10436543\n",
      "      1          8675792\n",
      "Name: count, dtype: int64\n"
     ]
    }
   ],
   "source": [
    "print(df['type'].unique())\n",
    "\n",
    "print(df.groupby('type')['attack'].value_counts())\n"
   ]
  },
  {
   "cell_type": "code",
   "execution_count": 3,
   "id": "933ecf24",
   "metadata": {},
   "outputs": [],
   "source": [
    "ddos_attacks = [\n",
    "    'DoS', 'DoSDisruptive', 'DoSRandom', 'DoSRandomSybil', 'DoSDisruptiveSybil'\n",
    "]\n",
    "\n",
    "# Filter only DDoS attack types\n",
    "df_ddos = df[df['attack_type'].isin(ddos_attacks)]\n",
    "\n",
    "# Save the filtered dataset\n",
    "#df_ddos.to_csv(\"ddos_attacks_only.csv\", index=False)\n",
    "\n",
    "#print(f\"Filtered dataset contains {len(df_ddos)} DDoS attack records.\")"
   ]
  },
  {
   "cell_type": "code",
   "execution_count": 9,
   "id": "6a6e16fe",
   "metadata": {},
   "outputs": [
    {
     "name": "stdout",
     "output_type": "stream",
     "text": [
      "[3 2]\n",
      "Total entries in filtered_data: 6048100\n"
     ]
    }
   ],
   "source": [
    "print(df_ddos['type'].unique())\n",
    "\n",
    "total_entries = df_ddos.shape[0]\n",
    "print(\"Total entries in filtered_data:\", total_entries)"
   ]
  },
  {
   "cell_type": "code",
   "execution_count": 4,
   "id": "9b21907e",
   "metadata": {},
   "outputs": [
    {
     "name": "stdout",
     "output_type": "stream",
     "text": [
      "Missing values in each column:\n",
      " Unnamed: 0     0\n",
      "type           0\n",
      "rcvTime        0\n",
      "pos_0          0\n",
      "pos_1          0\n",
      "pos_noise_0    0\n",
      "pos_noise_1    0\n",
      "spd_0          0\n",
      "spd_1          0\n",
      "spd_noise_0    0\n",
      "spd_noise_1    0\n",
      "acl_0          0\n",
      "acl_1          0\n",
      "acl_noise_0    0\n",
      "acl_noise_1    0\n",
      "hed_0          0\n",
      "hed_1          0\n",
      "hed_noise_0    0\n",
      "hed_noise_1    0\n",
      "attack         0\n",
      "attack_type    0\n",
      "dtype: int64\n"
     ]
    }
   ],
   "source": [
    "from sklearn.model_selection import train_test_split\n",
    "from sklearn.preprocessing import StandardScaler\n",
    "\n",
    "# Check for missing values\n",
    "missing_values = df_ddos.isnull().sum()\n",
    "print(\"Missing values in each column:\\n\", missing_values)\n",
    "\n"
   ]
  },
  {
   "cell_type": "code",
   "execution_count": 7,
   "id": "d7af5f8e",
   "metadata": {},
   "outputs": [
    {
     "name": "stdout",
     "output_type": "stream",
     "text": [
      "Number of duplicate rows: 0\n",
      "Duplicate rows:\n",
      " Empty DataFrame\n",
      "Columns: [Unnamed: 0, type, rcvTime, pos_0, pos_1, pos_noise_0, pos_noise_1, spd_0, spd_1, spd_noise_0, spd_noise_1, acl_0, acl_1, acl_noise_0, acl_noise_1, hed_0, hed_1, hed_noise_0, hed_noise_1, attack, attack_type]\n",
      "Index: []\n",
      "\n",
      "[0 rows x 21 columns]\n"
     ]
    }
   ],
   "source": [
    "# Check for duplicates in the filtered dataset\n",
    "duplicates = df_ddos[df_ddos.duplicated()]\n",
    "\n",
    "# Count the number of duplicate rows\n",
    "duplicate_count = duplicates.shape[0]\n",
    "\n",
    "print(\"Number of duplicate rows:\", duplicate_count)\n",
    "print(\"Duplicate rows:\\n\", duplicates)"
   ]
  },
  {
   "cell_type": "code",
   "execution_count": null,
   "id": "a3dafc5e",
   "metadata": {},
   "outputs": [],
   "source": []
  }
 ],
 "metadata": {
  "kernelspec": {
   "display_name": "Python 3",
   "language": "python",
   "name": "python3"
  },
  "language_info": {
   "codemirror_mode": {
    "name": "ipython",
    "version": 3
   },
   "file_extension": ".py",
   "mimetype": "text/x-python",
   "name": "python",
   "nbconvert_exporter": "python",
   "pygments_lexer": "ipython3",
   "version": "3.11.4"
  }
 },
 "nbformat": 4,
 "nbformat_minor": 5
}
