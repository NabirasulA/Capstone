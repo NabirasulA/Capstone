{
 "cells": [
  {
   "cell_type": "markdown",
   "metadata": {},
   "source": [
    "# VANET Misbehavior Detection - Data Exploration\n",
    "\n",
    "This notebook explores the VeReMi dataset for VANET misbehavior detection."
   ]
  },
  {
   "cell_type": "code",
   "execution_count": null,
   "metadata": {},
   "source": [
    "import sys\n",
    "import os\n",
    "\n",
    "# Add the src directory to the path\n",
    "sys.path.append(os.path.abspath('../src'))\n",
    "\n",
    "import pandas as pd\n",
    "import numpy as np\n",
    "import matplotlib.pyplot as plt\n",
    "import seaborn as sns\n",
    "\n",
    "from data_preprocessing.data_loader import VANETDataLoader"
   ]
  },
  {
   "cell_type": "markdown",
   "metadata": {},
   "source": [
    "## 1. Load the Dataset"
   ]
  },
  {
   "cell_type": "code",
   "execution_count": null,
   "metadata": {},
   "source": [
    "# Initialize data loader\n",
    "data_path = '../data/raw'\n",
    "data_loader = VANETDataLoader(data_path)\n",
    "\n",
    "# Load raw data\n",
    "df = pd.read_csv(f'{data_path}/veremi_dataset.csv')\n",
    "\n",
    "print(f'Dataset shape: {df.shape}')\n",
    "df.head()"
   ]
  },
  {
   "cell_type": "markdown",
   "metadata": {},
   "source": [
    "## 2. Data Overview"
   ]
  },
  {
   "cell_type": "code",
   "execution_count": null,
   "metadata": {},
   "source": [
    "# Check data types and missing values\n",
    "df.info()\n",
    "\n",
    "# Check for missing values\n",
    "print('\nMissing values per column:')\n",
    "print(df.isnull().sum())\n",
    "\n",
    "# Basic statistics\n",
    "df.describe()"
   ]
  },
  {
   "cell_type": "markdown",
   "metadata": {},
   "source": [
    "## 3. Attack Distribution"
   ]
  },
  {
   "cell_type": "code",
   "execution_count": null,
   "metadata": {},
   "source": [
    "# Check attack type distribution\n",
    "attack_counts = df['attack_type'].value_counts()\n",
    "print('Attack type distribution:\n', attack_counts)\n",
    "\n",
    "# Plot attack distribution\n",
    "plt.figure(figsize=(12, 6))\n",
    "sns.barplot(x=attack_counts.index, y=attack_counts.values)\n",
    "plt.title('Attack Type Distribution')\n",
    "plt.xlabel('Attack Type')\n",
    "plt.ylabel('Count')\n",
    "plt.xticks(rotation=90)\n",
    "plt.tight_layout()\n",
    "plt.show()\n",
    "\n",
    "# Pie chart for attack vs normal\n",
    "attack_binary = df['attack'].value_counts()\n",
    "plt.figure(figsize=(8, 8))\n",
    "plt.pie(attack_binary, labels=['Normal', 'Attack'] if 0 in attack_binary.index else ['Attack', 'Normal'], \n",
    "       autopct='%1.1f%%', startangle=90)\n",
    "plt.title('Normal vs Attack Distribution')\n",
    "plt.axis('equal')\n",
    "plt.show()"
   ]
  },
  {
   "cell_type": "markdown",
   "metadata": {},
   "source": [
    "## 4. Feature Analysis"
   ]
  },
  {
   "cell_type": "code",
   "execution_count": null,
   "metadata": {},
   "source": [
    "# Select numerical features for analysis\n",
    "numerical_features = df.select_dtypes(include=['float64', 'int64']).columns.tolist()\n",
    "numerical_features.remove('Unnamed: 0')  # Remove index column\n",
    "if 'attack' in numerical_features:\n",
    "    numerical_features.remove('attack')  # Remove target variable\n",
    "\n",
    "# Correlation matrix\n",
    "plt.figure(figsize=(14, 12))\n",
    "correlation = df[numerical_features].corr()\n",
    "sns.heatmap(correlation, annot=True, cmap='coolwarm', fmt='.2f', linewidths=0.5)\n",
    "plt.title('Feature Correlation Matrix')\n",
    "plt.tight_layout()\n",
    "plt.show()\n",
    "\n",
    "# Distribution of key features by attack type\n",
    "key_features = ['pos_0', 'pos_1', 'spd_0', 'spd_1', 'acl_0', 'acl_1']\n",
    "\n",
    "for feature in key_features:\n",
    "    plt.figure(figsize=(12, 6))\n",
    "    sns.boxplot(x='attack_type', y=feature, data=df.sample(min(10000, len(df))))\n",
    "    plt.title(f'{feature} Distribution by Attack Type')\n",
    "    plt.xticks(rotation=90)\n",
    "    plt.tight_layout()\n",
    "    plt.show()"
   ]
  },
  {
   "cell_type": "markdown",
   "metadata": {},
   "source": [
    "## 5. Temporal Analysis"
   ]
  },
  {
   "cell_type": "code",
   "execution_count": null,
   "metadata": {},
   "source": [
    "# Sort by receive time\n",
    "df_sorted = df.sort_values('rcvTime')\n",
    "\n",
    "# Sample data for visualization (to avoid plotting millions of points)\n",
    "sample_size = min(10000, len(df))\n",
    "df_sample = df_sorted.sample(sample_size)\n",
    "\n",
    "# Plot position over time\n",
    "plt.figure(figsize=(14, 8))\n",
    "\n",
    "plt.subplot(2, 1, 1)\n",
    "for attack_type in df_sample['attack_type'].unique():\n",
    "    subset = df_sample[df_sample['attack_type'] == attack_type]\n",
    "    plt.scatter(subset['rcvTime'], subset['pos_0'], label=attack_type, alpha=0.6, s=10)\n",
    "plt.title('Position X over Time by Attack Type')\n",
    "plt.xlabel('Receive Time')\n",
    "plt.ylabel('Position X')\n",
    "plt.legend(bbox_to_anchor=(1.05, 1), loc='upper left')\n",
    "\n",
    "plt.subplot(2, 1, 2)\n",
    "for attack_type in df_sample['attack_type'].unique():\n",
    "    subset = df_sample[df_sample['attack_type'] == attack_type]\n",
    "    plt.scatter(subset['rcvTime'], subset['pos_1'], label=attack_type, alpha=0.6, s=10)\n",
    "plt.title('Position Y over Time by Attack Type')\n",
    "plt.xlabel('Receive Time')\n",
    "plt.ylabel('Position Y')\n",
    "\n",
    "plt.tight_layout()\n",
    "plt.show()"
   ]
  },
  {
   "cell_type": "markdown",
   "metadata": {},
   "source": [
    "## 6. Feature Engineering Ideas"
   ]
  },
  {
   "cell_type": "code",
   "execution_count": null,
   "metadata": {},
   "source": [
    "# Calculate derived features\n",
    "# 1. Speed magnitude\n",
    "df['speed_magnitude'] = np.sqrt(df['spd_0']**2 + df['spd_1']**2)\n",
    "\n",
    "# 2. Acceleration magnitude\n",
    "df['acceleration_magnitude'] = np.sqrt(df['acl_0']**2 + df['acl_1']**2)\n",
    "\n",
    "# 3. Position noise magnitude\n",
    "df['position_noise_magnitude'] = np.sqrt(df['pos_noise_0']**2 + df['pos_noise_1']**2)\n",
    "\n",
    "# 4. Speed noise magnitude\n",
    "df['speed_noise_magnitude'] = np.sqrt(df['spd_noise_0']**2 + df['spd_noise_1']**2)\n",
    "\n",
    "# Visualize new features\n",
    "plt.figure(figsize=(14, 10))\n",
    "\n",
    "plt.subplot(2, 2, 1)\n",
    "sns.boxplot(x='attack_type', y='speed_magnitude', data=df.sample(min(10000, len(df))))\n",
    "plt.title('Speed Magnitude by Attack Type')\n",
    "plt.xticks(rotation=90)\n",
    "\n",
    "plt.subplot(2, 2, 2)\n",
    "sns.boxplot(x='attack_type', y='acceleration_magnitude', data=df.sample(min(10000, len(df))))\n",
    "plt.title('Acceleration Magnitude by Attack Type')\n",
    "plt.xticks(rotation=90)\n",
    "\n",
    "plt.subplot(2, 2, 3)\n",
    "sns.boxplot(x='attack_type', y='position_noise_magnitude', data=df.sample(min(10000, len(df))))\n",
    "plt.title('Position Noise Magnitude by Attack Type')\n",
    "plt.xticks(rotation=90)\n",
    "\n",
    "plt.subplot(2, 2, 4)\n",
    "sns.boxplot(x='attack_type', y='speed_noise_magnitude', data=df.sample(min(10000, len(df))))\n",
    "plt.title('Speed Noise Magnitude by Attack Type')\n",
    "plt.xticks(rotation=90)\n",
    "\n",
    "plt.tight_layout()\n",
    "plt.show()"
   ]
  },
  {
   "cell_type": "markdown",
   "metadata": {},
   "source": [
    "## 7. Conclusions and Next Steps"
   ]
  },
  {
   "cell_type": "markdown",
   "metadata": {},
   "source": [
    "### Key Findings:\n",
    "\n",
    "1. The dataset contains multiple attack types with varying distributions\n",
    "2. Position, speed, and acceleration features show distinct patterns for different attack types\n",
    "3. Derived features like magnitude calculations provide additional discriminative power\n",
    "\n",
    "### Next Steps:\n",
    "\n",
    "1. Implement feature extraction pipeline based on these insights\n",
    "2. Create temporal sequences for LSTM model\n",
    "3. Balance the dataset to address class imbalance\n",
    "4. Develop and train the ensemble model architecture"
   ]
  }
 ],
 "metadata": {
  "kernelspec": {
   "display_name": "Python 3",
   "language": "python",
   "name": "python3"
  },
  "language_info": {
   "codemirror_mode": {
    "name": "ipython",
    "version": 3
   },
   "file_extension": ".py",
   "mimetype": "text/x-python",
   "name": "python",
   "nbconvert_exporter": "python",
   "pygments_lexer": "ipython3",
   "version": "3.9.0"
  }
 }
}
