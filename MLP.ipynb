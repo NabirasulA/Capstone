{
 "cells": [
  {
   "cell_type": "code",
   "execution_count": 1,
   "metadata": {},
   "outputs": [
    {
     "name": "stdout",
     "output_type": "stream",
     "text": [
      "   Unnamed: 0  type       rcvTime     pos_0     pos_1  pos_noise_0  \\\n",
      "0           0     3  27371.216284  0.671505  0.520136     0.000274   \n",
      "1           1     3  52060.561117  0.692568  0.551755     0.000321   \n",
      "2           2     3  28156.319142  0.634308  0.550787     0.000212   \n",
      "3           3     3  28671.375689  0.592830  0.512949     0.000353   \n",
      "4           4     2  53612.000000  0.590575  0.476267     0.000238   \n",
      "\n",
      "   pos_noise_1     spd_0     spd_1  spd_noise_0  ...     acl_0     acl_1  \\\n",
      "0     0.000284  0.158960  0.365369     0.390111  ...  0.473667  0.480255   \n",
      "1     0.000319  0.391546  0.404605     0.474784  ...  0.447554  0.473846   \n",
      "2     0.000220  0.409171  0.429974     0.518330  ...  0.472780  0.336080   \n",
      "3     0.000361  0.539499  0.472207     0.641699  ...  0.486963  0.354515   \n",
      "4     0.000242  0.502468  0.396957     0.521358  ...  0.452836  0.490056   \n",
      "\n",
      "   acl_noise_0  acl_noise_1     hed_0     hed_1  hed_noise_0  hed_noise_1  \\\n",
      "0     0.006141     0.008928  0.014335  0.381134     0.006944     0.005368   \n",
      "1     0.000008     0.000001  0.996289  0.560805     0.000404     0.001335   \n",
      "2     0.003512     0.048456  0.628052  0.983325     0.002510     0.001529   \n",
      "3     0.000513     0.000179  0.977057  0.649723     0.000450     0.000984   \n",
      "4     0.000222     0.000509  0.680201  0.033601     0.000891     0.003165   \n",
      "\n",
      "   attack  attack_type  \n",
      "0       0           18  \n",
      "1       0            4  \n",
      "2       1            9  \n",
      "3       1           18  \n",
      "4       0            8  \n",
      "\n",
      "[5 rows x 21 columns]\n"
     ]
    }
   ],
   "source": [
    "import pandas as pd\n",
    "\n",
    "df = pd.read_csv(\"preprocessed_dataset.csv\",nrows=1000000)\n",
    "print(df.head())"
   ]
  },
  {
   "cell_type": "code",
   "execution_count": 2,
   "metadata": {},
   "outputs": [
    {
     "name": "stdout",
     "output_type": "stream",
     "text": [
      "Data prepared for Deep Learning!\n"
     ]
    }
   ],
   "source": [
    "import torch\n",
    "from sklearn.model_selection import train_test_split\n",
    "\n",
    "# Separate features and labels\n",
    "X = df.drop(columns=['attack'])  # Features\n",
    "y = df['attack']  # Target (0 = Benign, 1 = Attack)\n",
    "\n",
    "# Split dataset\n",
    "X_train, X_test, y_train, y_test = train_test_split(X, y, test_size=0.2, random_state=42, stratify=y)\n",
    "\n",
    "# Convert to PyTorch tensors\n",
    "X_train_tensor = torch.tensor(X_train.values, dtype=torch.float32)\n",
    "X_test_tensor = torch.tensor(X_test.values, dtype=torch.float32)\n",
    "y_train_tensor = torch.tensor(y_train.values, dtype=torch.long)\n",
    "y_test_tensor = torch.tensor(y_test.values, dtype=torch.long)\n",
    "\n",
    "print(\"Data prepared for Deep Learning!\")"
   ]
  },
  {
   "cell_type": "code",
   "execution_count": 3,
   "metadata": {},
   "outputs": [
    {
     "name": "stdout",
     "output_type": "stream",
     "text": [
      "DDoSClassifier(\n",
      "  (fc1): Linear(in_features=20, out_features=128, bias=True)\n",
      "  (relu): ReLU()\n",
      "  (fc2): Linear(in_features=128, out_features=64, bias=True)\n",
      "  (relu2): ReLU()\n",
      "  (fc3): Linear(in_features=64, out_features=2, bias=True)\n",
      "  (softmax): LogSoftmax(dim=1)\n",
      ")\n"
     ]
    }
   ],
   "source": [
    "import torch.nn as nn\n",
    "import torch.optim as optim\n",
    "\n",
    "# Define MLP model\n",
    "class DDoSClassifier(nn.Module):\n",
    "    def __init__(self, input_size):\n",
    "        super(DDoSClassifier, self).__init__()\n",
    "        self.fc1 = nn.Linear(input_size, 128)\n",
    "        self.relu = nn.ReLU()\n",
    "        self.fc2 = nn.Linear(128, 64)\n",
    "        self.relu2 = nn.ReLU()\n",
    "        self.fc3 = nn.Linear(64, 2)  # Binary Classification (0 = Benign, 1 = Attack)\n",
    "        self.softmax = nn.LogSoftmax(dim=1)\n",
    "\n",
    "    def forward(self, x):\n",
    "        x = self.relu(self.fc1(x))\n",
    "        x = self.relu2(self.fc2(x))\n",
    "        x = self.softmax(self.fc3(x))\n",
    "        return x\n",
    "\n",
    "# Initialize model\n",
    "input_size = X_train.shape[1]  # Number of features\n",
    "model = DDoSClassifier(input_size)\n",
    "\n",
    "print(model)\n"
   ]
  },
  {
   "cell_type": "code",
   "execution_count": 4,
   "metadata": {},
   "outputs": [
    {
     "name": "stdout",
     "output_type": "stream",
     "text": [
      "Loss function & optimizer defined!\n"
     ]
    }
   ],
   "source": [
    "# Loss function & optimizer\n",
    "criterion = nn.CrossEntropyLoss()  # Since we have two classes (0,1)\n",
    "optimizer = optim.Adam(model.parameters(), lr=0.001)\n",
    "\n",
    "print(\"Loss function & optimizer defined!\")\n"
   ]
  },
  {
   "cell_type": "code",
   "execution_count": 5,
   "metadata": {},
   "outputs": [
    {
     "name": "stdout",
     "output_type": "stream",
     "text": [
      "Epoch 1/30, Loss: 307545.0334\n",
      "Epoch 2/30, Loss: 100699.8412\n",
      "Epoch 3/30, Loss: 28406.5014\n",
      "Epoch 4/30, Loss: 15393.4194\n",
      "Epoch 5/30, Loss: 4713.5533\n",
      "Epoch 6/30, Loss: 541.3847\n",
      "Epoch 7/30, Loss: 539.7202\n",
      "Epoch 8/30, Loss: 539.5699\n",
      "Epoch 9/30, Loss: 539.1819\n",
      "Epoch 10/30, Loss: 538.8022\n",
      "Epoch 11/30, Loss: 538.5107\n",
      "Epoch 12/30, Loss: 538.5031\n",
      "Epoch 13/30, Loss: 538.3414\n",
      "Epoch 14/30, Loss: 538.3692\n",
      "Epoch 15/30, Loss: 538.4352\n",
      "Epoch 16/30, Loss: 538.5792\n",
      "Epoch 17/30, Loss: 538.5846\n",
      "Epoch 18/30, Loss: 538.5899\n",
      "Epoch 19/30, Loss: 538.5987\n",
      "Epoch 20/30, Loss: 538.5958\n",
      "Epoch 21/30, Loss: 538.5904\n",
      "Epoch 22/30, Loss: 538.5912\n",
      "Epoch 23/30, Loss: 538.5857\n",
      "Epoch 24/30, Loss: 538.5996\n",
      "Epoch 25/30, Loss: 538.5839\n",
      "Epoch 26/30, Loss: 538.5948\n",
      "Epoch 27/30, Loss: 538.5924\n",
      "Epoch 28/30, Loss: 538.5937\n",
      "Epoch 29/30, Loss: 538.5885\n",
      "Epoch 30/30, Loss: 538.5974\n",
      "Model training complete!\n"
     ]
    }
   ],
   "source": [
    "# Training loop\n",
    "epochs = 30  # Start with 30 epochs, increase if needed\n",
    "batch_size = 1024\n",
    "train_loader = torch.utils.data.DataLoader(list(zip(X_train_tensor, y_train_tensor)), batch_size=batch_size, shuffle=True)\n",
    "\n",
    "for epoch in range(epochs):\n",
    "    model.train()\n",
    "    total_loss = 0\n",
    "\n",
    "    for X_batch, y_batch in train_loader:\n",
    "        optimizer.zero_grad()\n",
    "        y_pred = model(X_batch)\n",
    "        loss = criterion(y_pred, y_batch)\n",
    "        loss.backward()\n",
    "        optimizer.step()\n",
    "        total_loss += loss.item()\n",
    "\n",
    "    print(f\"Epoch {epoch+1}/{epochs}, Loss: {total_loss:.4f}\")\n",
    "\n",
    "print(\"Model training complete!\")\n"
   ]
  },
  {
   "cell_type": "code",
   "execution_count": 7,
   "metadata": {},
   "outputs": [
    {
     "name": "stdout",
     "output_type": "stream",
     "text": [
      "Test Accuracy: 0.5470\n"
     ]
    }
   ],
   "source": [
    "# Evaluate on test data\n",
    "model.eval()\n",
    "with torch.no_grad():\n",
    "    y_pred_test = model(X_test_tensor)\n",
    "    y_pred_labels = torch.argmax(y_pred_test, axis=1)\n",
    "\n",
    "# Calculate accuracy\n",
    "accuracy = (y_pred_labels == y_test_tensor).float().mean().item()\n",
    "print(f\"Test Accuracy: {accuracy:.4f}\")\n"
   ]
  }
 ],
 "metadata": {
  "kernelspec": {
   "display_name": "Python 3",
   "language": "python",
   "name": "python3"
  },
  "language_info": {
   "codemirror_mode": {
    "name": "ipython",
    "version": 3
   },
   "file_extension": ".py",
   "mimetype": "text/x-python",
   "name": "python",
   "nbconvert_exporter": "python",
   "pygments_lexer": "ipython3",
   "version": "3.11.4"
  }
 },
 "nbformat": 4,
 "nbformat_minor": 2
}
